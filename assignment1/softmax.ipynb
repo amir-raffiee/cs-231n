{
 "cells": [
  {
   "cell_type": "markdown",
   "metadata": {},
   "source": [
    "# Softmax exercise\n",
    "\n",
    "*Complete and hand in this completed worksheet (including its outputs and any supporting code outside of the worksheet) with your assignment submission. For more details see the [assignments page](http://vision.stanford.edu/teaching/cs231n/assignments.html) on the course website.*\n",
    "\n",
    "This exercise is analogous to the SVM exercise. You will:\n",
    "\n",
    "- implement a fully-vectorized **loss function** for the Softmax classifier\n",
    "- implement the fully-vectorized expression for its **analytic gradient**\n",
    "- **check your implementation** with numerical gradient\n",
    "- use a validation set to **tune the learning rate and regularization** strength\n",
    "- **optimize** the loss function with **SGD**\n",
    "- **visualize** the final learned weights\n"
   ]
  },
  {
   "cell_type": "code",
   "execution_count": 7,
   "metadata": {
    "collapsed": false
   },
   "outputs": [
    {
     "name": "stdout",
     "output_type": "stream",
     "text": [
      "The autoreload extension is already loaded. To reload it, use:\n",
      "  %reload_ext autoreload\n"
     ]
    }
   ],
   "source": [
    "import random\n",
    "import numpy as np\n",
    "from cs231n.data_utils import load_CIFAR10\n",
    "import matplotlib.pyplot as plt\n",
    "\n",
    "from __future__ import print_function\n",
    "\n",
    "%matplotlib inline\n",
    "plt.rcParams['figure.figsize'] = (10.0, 8.0) # set default size of plots\n",
    "plt.rcParams['image.interpolation'] = 'nearest'\n",
    "plt.rcParams['image.cmap'] = 'gray'\n",
    "\n",
    "# for auto-reloading extenrnal modules\n",
    "# see http://stackoverflow.com/questions/1907993/autoreload-of-modules-in-ipython\n",
    "%load_ext autoreload\n",
    "%autoreload 2"
   ]
  },
  {
   "cell_type": "code",
   "execution_count": 8,
   "metadata": {
    "collapsed": false
   },
   "outputs": [
    {
     "name": "stdout",
     "output_type": "stream",
     "text": [
      "Train data shape:  (49000, 3073)\n",
      "Train labels shape:  (49000,)\n",
      "Validation data shape:  (1000, 3073)\n",
      "Validation labels shape:  (1000,)\n",
      "Test data shape:  (1000, 3073)\n",
      "Test labels shape:  (1000,)\n",
      "dev data shape:  (500, 3073)\n",
      "dev labels shape:  (500,)\n"
     ]
    }
   ],
   "source": [
    "def get_CIFAR10_data(num_training=49000, num_validation=1000, num_test=1000, num_dev=500):\n",
    "    \"\"\"\n",
    "    Load the CIFAR-10 dataset from disk and perform preprocessing to prepare\n",
    "    it for the linear classifier. These are the same steps as we used for the\n",
    "    SVM, but condensed to a single function.  \n",
    "    \"\"\"\n",
    "    # Load the raw CIFAR-10 data\n",
    "    cifar10_dir = 'cs231n/datasets/cifar-10-batches-py'\n",
    "    X_train, y_train, X_test, y_test = load_CIFAR10(cifar10_dir)\n",
    "    \n",
    "    # subsample the data\n",
    "    mask = list(range(num_training, num_training + num_validation))\n",
    "    X_val = X_train[mask]\n",
    "    y_val = y_train[mask]\n",
    "    mask = list(range(num_training))\n",
    "    X_train = X_train[mask]\n",
    "    y_train = y_train[mask]\n",
    "    mask = list(range(num_test))\n",
    "    X_test = X_test[mask]\n",
    "    y_test = y_test[mask]\n",
    "    mask = np.random.choice(num_training, num_dev, replace=False)\n",
    "    X_dev = X_train[mask]\n",
    "    y_dev = y_train[mask]\n",
    "    \n",
    "    # Preprocessing: reshape the image data into rows\n",
    "    X_train = np.reshape(X_train, (X_train.shape[0], -1))\n",
    "    X_val = np.reshape(X_val, (X_val.shape[0], -1))\n",
    "    X_test = np.reshape(X_test, (X_test.shape[0], -1))\n",
    "    X_dev = np.reshape(X_dev, (X_dev.shape[0], -1))\n",
    "    \n",
    "    # Normalize the data: subtract the mean image\n",
    "    mean_image = np.mean(X_train, axis = 0)\n",
    "    X_train -= mean_image\n",
    "    X_val -= mean_image\n",
    "    X_test -= mean_image\n",
    "    X_dev -= mean_image\n",
    "    \n",
    "    # add bias dimension and transform into columns\n",
    "    X_train = np.hstack([X_train, np.ones((X_train.shape[0], 1))])\n",
    "    X_val = np.hstack([X_val, np.ones((X_val.shape[0], 1))])\n",
    "    X_test = np.hstack([X_test, np.ones((X_test.shape[0], 1))])\n",
    "    X_dev = np.hstack([X_dev, np.ones((X_dev.shape[0], 1))])\n",
    "    \n",
    "    return X_train, y_train, X_val, y_val, X_test, y_test, X_dev, y_dev\n",
    "\n",
    "\n",
    "# Invoke the above function to get our data.\n",
    "X_train, y_train, X_val, y_val, X_test, y_test, X_dev, y_dev = get_CIFAR10_data()\n",
    "print('Train data shape: ', X_train.shape)\n",
    "print('Train labels shape: ', y_train.shape)\n",
    "print('Validation data shape: ', X_val.shape)\n",
    "print('Validation labels shape: ', y_val.shape)\n",
    "print('Test data shape: ', X_test.shape)\n",
    "print('Test labels shape: ', y_test.shape)\n",
    "print('dev data shape: ', X_dev.shape)\n",
    "print('dev labels shape: ', y_dev.shape)"
   ]
  },
  {
   "cell_type": "markdown",
   "metadata": {},
   "source": [
    "## Softmax Classifier\n",
    "\n",
    "Your code for this section will all be written inside **cs231n/classifiers/softmax.py**. \n"
   ]
  },
  {
   "cell_type": "code",
   "execution_count": 12,
   "metadata": {
    "collapsed": false
   },
   "outputs": [
    {
     "data": {
      "text/plain": [
       "array([ 0.5,  0.5,  0.5])"
      ]
     },
     "execution_count": 12,
     "metadata": {},
     "output_type": "execute_result"
    }
   ],
   "source": []
  },
  {
   "cell_type": "code",
   "execution_count": 13,
   "metadata": {
    "collapsed": false
   },
   "outputs": [
    {
     "name": "stdout",
     "output_type": "stream",
     "text": [
      "loss: 2.353777\n",
      "sanity check: 2.302585\n"
     ]
    }
   ],
   "source": [
    "# First implement the naive softmax loss function with nested loops.\n",
    "# Open the file cs231n/classifiers/softmax.py and implement the\n",
    "# softmax_loss_naive function.\n",
    "\n",
    "from cs231n.classifiers.softmax import softmax_loss_naive\n",
    "import time\n",
    "\n",
    "# Generate a random softmax weight matrix and use it to compute the loss.\n",
    "W = np.random.randn(3073, 10) * 0.0001\n",
    "loss, grad = softmax_loss_naive(W, X_dev, y_dev, 0.0)\n",
    "\n",
    "# As a rough sanity check, our loss should be something close to -log(0.1).\n",
    "print('loss: %f' % loss)\n",
    "print('sanity check: %f' % (-np.log(0.1)))\n",
    "\n",
    "\n",
    "\n",
    "\n",
    "\n"
   ]
  },
  {
   "cell_type": "markdown",
   "metadata": {},
   "source": [
    "## Inline Question 1:\n",
    "Why do we expect our loss to be close to -log(0.1)? Explain briefly.**\n",
    "\n",
    "**Your answer:** *Fill this in*\n"
   ]
  },
  {
   "cell_type": "code",
   "execution_count": 16,
   "metadata": {
    "collapsed": false
   },
   "outputs": [
    {
     "name": "stdout",
     "output_type": "stream",
     "text": [
      "numerical: 2.593099 analytic: 2.593099, relative error: 1.728352e-08\n",
      "numerical: 3.230041 analytic: 3.230041, relative error: 9.913169e-09\n",
      "numerical: 0.438681 analytic: 0.438681, relative error: 4.268815e-09\n",
      "numerical: -0.375368 analytic: -0.375368, relative error: 1.855398e-08\n",
      "numerical: 0.077413 analytic: 0.077413, relative error: 3.476549e-07\n",
      "numerical: 3.785736 analytic: 3.785735, relative error: 1.786859e-08\n",
      "numerical: 1.675984 analytic: 1.675984, relative error: 2.329551e-08\n",
      "numerical: 0.389205 analytic: 0.389205, relative error: 2.164899e-07\n",
      "numerical: -0.713731 analytic: -0.713731, relative error: 3.943061e-08\n",
      "numerical: -0.009537 analytic: -0.009537, relative error: 6.638974e-09\n",
      "numerical: 2.606625 analytic: 2.606625, relative error: 3.632687e-08\n",
      "numerical: -1.588135 analytic: -1.588136, relative error: 1.769700e-08\n",
      "numerical: -1.896331 analytic: -1.896331, relative error: 1.693299e-08\n",
      "numerical: 0.800184 analytic: 0.800184, relative error: 3.261684e-08\n",
      "numerical: 0.349716 analytic: 0.349716, relative error: 1.127760e-08\n",
      "numerical: -2.326859 analytic: -2.326859, relative error: 5.521325e-09\n",
      "numerical: -0.146297 analytic: -0.146297, relative error: 3.550373e-08\n",
      "numerical: -0.576084 analytic: -0.576084, relative error: 6.194123e-08\n",
      "numerical: -0.507908 analytic: -0.507908, relative error: 5.832712e-08\n",
      "numerical: -0.957365 analytic: -0.957365, relative error: 5.053856e-09\n"
     ]
    }
   ],
   "source": [
    "# Complete the implementation of softmax_loss_naive and implement a (naive)\n",
    "# version of the gradient that uses nested loops.\n",
    "loss, grad = softmax_loss_naive(W, X_dev, y_dev, 0.0)\n",
    "\n",
    "# As we did for the SVM, use numeric gradient checking as a debugging tool.\n",
    "# The numeric gradient should be close to the analytic gradient.\n",
    "from cs231n.gradient_check import grad_check_sparse\n",
    "f = lambda w: softmax_loss_naive(w, X_dev, y_dev, 0.0)[0]\n",
    "grad_numerical = grad_check_sparse(f, W, grad, 10)\n",
    "\n",
    "# similar to SVM case, do another gradient check with regularization\n",
    "loss, grad = softmax_loss_naive(W, X_dev, y_dev, 5e1)\n",
    "f = lambda w: softmax_loss_naive(w, X_dev, y_dev, 5e1)[0]\n",
    "grad_numerical = grad_check_sparse(f, W, grad, 10)\n",
    "\n"
   ]
  },
  {
   "cell_type": "code",
   "execution_count": 18,
   "metadata": {
    "collapsed": false
   },
   "outputs": [
    {
     "name": "stdout",
     "output_type": "stream",
     "text": [
      "naive loss: 2.353777e+00 computed in 0.175315s\n",
      "vectorized loss: 2.353777e+00 computed in 0.004170s\n",
      "Loss difference: 0.000000\n",
      "Gradient difference: 0.000000\n"
     ]
    }
   ],
   "source": [
    "# Now that we have a naive implementation of the softmax loss function and its gradient,\n",
    "# implement a vectorized version in softmax_loss_vectorized.\n",
    "# The two versions should compute the same results, but the vectorized version should be\n",
    "# much faster.\n",
    "tic = time.time()\n",
    "loss_naive, grad_naive = softmax_loss_naive(W, X_dev, y_dev, 0.000005)\n",
    "toc = time.time()\n",
    "print('naive loss: %e computed in %fs' % (loss_naive, toc - tic))\n",
    "\n",
    "from cs231n.classifiers.softmax import softmax_loss_vectorized\n",
    "tic = time.time()\n",
    "loss_vectorized, grad_vectorized = softmax_loss_vectorized(W, X_dev, y_dev, 0.000005)\n",
    "toc = time.time()\n",
    "print('vectorized loss: %e computed in %fs' % (loss_vectorized, toc - tic))\n",
    "\n",
    "# As we did for the SVM, we use the Frobenius norm to compare the two versions\n",
    "# of the gradient.\n",
    "grad_difference = np.linalg.norm(grad_naive - grad_vectorized, ord='fro')\n",
    "print('Loss difference: %f' % np.abs(loss_naive - loss_vectorized))\n",
    "print('Gradient difference: %f' % grad_difference)"
   ]
  },
  {
   "cell_type": "code",
   "execution_count": 26,
   "metadata": {
    "collapsed": false
   },
   "outputs": [
    {
     "name": "stdout",
     "output_type": "stream",
     "text": [
      "lr 1.000000e-07 reg 1.000000e+04 train accuracy: 0.146673 val accuracy: 0.149000\n",
      "lr 1.000000e-07 reg 2.000000e+04 train accuracy: 0.130408 val accuracy: 0.114000\n",
      "lr 1.000000e-07 reg 3.000000e+04 train accuracy: 0.170531 val accuracy: 0.156000\n",
      "lr 1.000000e-07 reg 4.000000e+04 train accuracy: 0.166429 val accuracy: 0.168000\n",
      "lr 1.000000e-07 reg 5.000000e+04 train accuracy: 0.143041 val accuracy: 0.151000\n",
      "lr 1.000000e-07 reg 6.000000e+04 train accuracy: 0.183551 val accuracy: 0.177000\n",
      "lr 1.000000e-07 reg 7.000000e+04 train accuracy: 0.183245 val accuracy: 0.194000\n",
      "lr 1.000000e-07 reg 8.000000e+04 train accuracy: 0.199327 val accuracy: 0.198000\n",
      "lr 1.000000e-07 reg 9.000000e+04 train accuracy: 0.211857 val accuracy: 0.230000\n",
      "lr 2.000000e-07 reg 1.000000e+04 train accuracy: 0.179408 val accuracy: 0.188000\n",
      "lr 2.000000e-07 reg 2.000000e+04 train accuracy: 0.196980 val accuracy: 0.177000\n",
      "lr 2.000000e-07 reg 3.000000e+04 train accuracy: 0.202633 val accuracy: 0.207000\n",
      "lr 2.000000e-07 reg 4.000000e+04 train accuracy: 0.230224 val accuracy: 0.228000\n",
      "lr 2.000000e-07 reg 5.000000e+04 train accuracy: 0.251571 val accuracy: 0.251000\n",
      "lr 2.000000e-07 reg 6.000000e+04 train accuracy: 0.252592 val accuracy: 0.259000\n",
      "lr 2.000000e-07 reg 7.000000e+04 train accuracy: 0.276796 val accuracy: 0.292000\n",
      "lr 2.000000e-07 reg 8.000000e+04 train accuracy: 0.275510 val accuracy: 0.280000\n",
      "lr 2.000000e-07 reg 9.000000e+04 train accuracy: 0.285041 val accuracy: 0.299000\n",
      "lr 3.000000e-07 reg 1.000000e+04 train accuracy: 0.201286 val accuracy: 0.219000\n",
      "lr 3.000000e-07 reg 2.000000e+04 train accuracy: 0.228163 val accuracy: 0.226000\n",
      "lr 3.000000e-07 reg 3.000000e+04 train accuracy: 0.255735 val accuracy: 0.256000\n",
      "lr 3.000000e-07 reg 4.000000e+04 train accuracy: 0.282469 val accuracy: 0.300000\n",
      "lr 3.000000e-07 reg 5.000000e+04 train accuracy: 0.288878 val accuracy: 0.322000\n",
      "lr 3.000000e-07 reg 6.000000e+04 train accuracy: 0.304796 val accuracy: 0.313000\n",
      "lr 3.000000e-07 reg 7.000000e+04 train accuracy: 0.285551 val accuracy: 0.300000\n",
      "lr 3.000000e-07 reg 8.000000e+04 train accuracy: 0.279612 val accuracy: 0.295000\n",
      "lr 3.000000e-07 reg 9.000000e+04 train accuracy: 0.287612 val accuracy: 0.305000\n",
      "lr 4.000000e-07 reg 1.000000e+04 train accuracy: 0.216449 val accuracy: 0.208000\n",
      "lr 4.000000e-07 reg 2.000000e+04 train accuracy: 0.278000 val accuracy: 0.281000\n",
      "lr 4.000000e-07 reg 3.000000e+04 train accuracy: 0.289163 val accuracy: 0.312000\n",
      "lr 4.000000e-07 reg 4.000000e+04 train accuracy: 0.312000 val accuracy: 0.332000\n",
      "lr 4.000000e-07 reg 5.000000e+04 train accuracy: 0.310776 val accuracy: 0.329000\n",
      "lr 4.000000e-07 reg 6.000000e+04 train accuracy: 0.302245 val accuracy: 0.318000\n",
      "lr 4.000000e-07 reg 7.000000e+04 train accuracy: 0.303122 val accuracy: 0.320000\n",
      "lr 4.000000e-07 reg 8.000000e+04 train accuracy: 0.282367 val accuracy: 0.301000\n",
      "lr 4.000000e-07 reg 9.000000e+04 train accuracy: 0.296694 val accuracy: 0.321000\n",
      "lr 5.000000e-07 reg 1.000000e+04 train accuracy: 0.247163 val accuracy: 0.250000\n",
      "lr 5.000000e-07 reg 2.000000e+04 train accuracy: 0.297612 val accuracy: 0.312000\n",
      "lr 5.000000e-07 reg 3.000000e+04 train accuracy: 0.313184 val accuracy: 0.334000\n",
      "lr 5.000000e-07 reg 4.000000e+04 train accuracy: 0.309776 val accuracy: 0.335000\n",
      "lr 5.000000e-07 reg 5.000000e+04 train accuracy: 0.300510 val accuracy: 0.313000\n",
      "lr 5.000000e-07 reg 6.000000e+04 train accuracy: 0.296429 val accuracy: 0.313000\n",
      "lr 5.000000e-07 reg 7.000000e+04 train accuracy: 0.303347 val accuracy: 0.318000\n",
      "lr 5.000000e-07 reg 8.000000e+04 train accuracy: 0.291673 val accuracy: 0.294000\n",
      "lr 5.000000e-07 reg 9.000000e+04 train accuracy: 0.279041 val accuracy: 0.294000\n",
      "lr 6.000000e-07 reg 1.000000e+04 train accuracy: 0.267082 val accuracy: 0.263000\n",
      "lr 6.000000e-07 reg 2.000000e+04 train accuracy: 0.310592 val accuracy: 0.326000\n",
      "lr 6.000000e-07 reg 3.000000e+04 train accuracy: 0.317633 val accuracy: 0.335000\n",
      "lr 6.000000e-07 reg 4.000000e+04 train accuracy: 0.304490 val accuracy: 0.326000\n",
      "lr 6.000000e-07 reg 5.000000e+04 train accuracy: 0.312857 val accuracy: 0.327000\n",
      "lr 6.000000e-07 reg 6.000000e+04 train accuracy: 0.286408 val accuracy: 0.296000\n",
      "lr 6.000000e-07 reg 7.000000e+04 train accuracy: 0.294306 val accuracy: 0.302000\n",
      "lr 6.000000e-07 reg 8.000000e+04 train accuracy: 0.293633 val accuracy: 0.314000\n",
      "lr 6.000000e-07 reg 9.000000e+04 train accuracy: 0.286857 val accuracy: 0.298000\n",
      "lr 7.000000e-07 reg 1.000000e+04 train accuracy: 0.281327 val accuracy: 0.277000\n",
      "lr 7.000000e-07 reg 2.000000e+04 train accuracy: 0.326490 val accuracy: 0.330000\n",
      "lr 7.000000e-07 reg 3.000000e+04 train accuracy: 0.318224 val accuracy: 0.336000\n",
      "lr 7.000000e-07 reg 4.000000e+04 train accuracy: 0.312224 val accuracy: 0.332000\n",
      "lr 7.000000e-07 reg 5.000000e+04 train accuracy: 0.305041 val accuracy: 0.312000\n",
      "lr 7.000000e-07 reg 6.000000e+04 train accuracy: 0.290469 val accuracy: 0.297000\n",
      "lr 7.000000e-07 reg 7.000000e+04 train accuracy: 0.291408 val accuracy: 0.301000\n",
      "lr 7.000000e-07 reg 8.000000e+04 train accuracy: 0.280408 val accuracy: 0.291000\n",
      "lr 7.000000e-07 reg 9.000000e+04 train accuracy: 0.285571 val accuracy: 0.289000\n",
      "lr 8.000000e-07 reg 1.000000e+04 train accuracy: 0.308143 val accuracy: 0.301000\n",
      "lr 8.000000e-07 reg 2.000000e+04 train accuracy: 0.319041 val accuracy: 0.329000\n",
      "lr 8.000000e-07 reg 3.000000e+04 train accuracy: 0.321143 val accuracy: 0.334000\n",
      "lr 8.000000e-07 reg 4.000000e+04 train accuracy: 0.300306 val accuracy: 0.307000\n",
      "lr 8.000000e-07 reg 5.000000e+04 train accuracy: 0.286673 val accuracy: 0.295000\n",
      "lr 8.000000e-07 reg 6.000000e+04 train accuracy: 0.303776 val accuracy: 0.307000\n",
      "lr 8.000000e-07 reg 7.000000e+04 train accuracy: 0.281939 val accuracy: 0.298000\n",
      "lr 8.000000e-07 reg 8.000000e+04 train accuracy: 0.293102 val accuracy: 0.305000\n",
      "lr 8.000000e-07 reg 9.000000e+04 train accuracy: 0.274490 val accuracy: 0.287000\n",
      "lr 9.000000e-07 reg 1.000000e+04 train accuracy: 0.318592 val accuracy: 0.326000\n",
      "lr 9.000000e-07 reg 2.000000e+04 train accuracy: 0.312612 val accuracy: 0.336000\n",
      "lr 9.000000e-07 reg 3.000000e+04 train accuracy: 0.322939 val accuracy: 0.328000\n",
      "lr 9.000000e-07 reg 4.000000e+04 train accuracy: 0.301449 val accuracy: 0.314000\n",
      "lr 9.000000e-07 reg 5.000000e+04 train accuracy: 0.298143 val accuracy: 0.316000\n",
      "lr 9.000000e-07 reg 6.000000e+04 train accuracy: 0.294878 val accuracy: 0.309000\n",
      "lr 9.000000e-07 reg 7.000000e+04 train accuracy: 0.279837 val accuracy: 0.286000\n",
      "lr 9.000000e-07 reg 8.000000e+04 train accuracy: 0.277776 val accuracy: 0.309000\n",
      "lr 9.000000e-07 reg 9.000000e+04 train accuracy: 0.283531 val accuracy: 0.296000\n",
      "best validation accuracy achieved during cross-validation: 0.336000\n"
     ]
    }
   ],
   "source": [
    "# Use the validation set to tune hyperparameters (regularization strength and\n",
    "# learning rate). You should experiment with different ranges for the learning\n",
    "# rates and regularization strengths; if you are careful you should be able to\n",
    "# get a classification accuracy of over 0.35 on the validation set.\n",
    "from cs231n.classifiers import Softmax\n",
    "results = {}\n",
    "best_val = -1\n",
    "best_softmax = None\n",
    "learning_rates = np.linspace(1,9,9)*10**-7\n",
    "regularization_strengths = np.linspace(1,9,9)*10**4\n",
    "collection=[(i,j) for i in learning_rates for j in regularization_strengths]\n",
    "################################################################################\n",
    "# TODO:                                                                        #\n",
    "# Use the validation set to set the learning rate and regularization strength. #\n",
    "# This should be identical to the validation that you did for the SVM; save    #\n",
    "# the best trained softmax classifer in best_softmax.                          #\n",
    "################################################################################\n",
    "for (lr,rp) in collection:\n",
    "    softmax_classifier=Softmax()\n",
    "    _=softmax_classifier.train(X_train,y_train,learning_rate=lr, reg=rp)\n",
    "    results[(lr,rp)]=(np.mean(softmax_classifier.predict(X_train)==y_train),np.mean(softmax_classifier.predict(X_val)==y_val))\n",
    "    if results[(lr,rp)][1]>best_val:\n",
    "        best_val=results[(lr,rp)][1]\n",
    "        best_softmax=softmax_classifier\n",
    "################################################################################\n",
    "#                              END OF YOUR CODE                                #\n",
    "################################################################################\n",
    "    \n",
    "# Print out results.\n",
    "for lr, reg in sorted(results):\n",
    "    train_accuracy, val_accuracy = results[(lr, reg)]\n",
    "    print('lr %e reg %e train accuracy: %f val accuracy: %f' % (\n",
    "                lr, reg, train_accuracy, val_accuracy))\n",
    "    \n",
    "print('best validation accuracy achieved during cross-validation: %f' % best_val)"
   ]
  },
  {
   "cell_type": "code",
   "execution_count": 27,
   "metadata": {
    "collapsed": false
   },
   "outputs": [
    {
     "name": "stdout",
     "output_type": "stream",
     "text": [
      "softmax on raw pixels final test set accuracy: 0.323000\n"
     ]
    }
   ],
   "source": [
    "# evaluate on test set\n",
    "# Evaluate the best softmax on test set\n",
    "y_test_pred = best_softmax.predict(X_test)\n",
    "test_accuracy = np.mean(y_test == y_test_pred)\n",
    "print('softmax on raw pixels final test set accuracy: %f' % (test_accuracy, ))"
   ]
  },
  {
   "cell_type": "code",
   "execution_count": 28,
   "metadata": {
    "collapsed": false
   },
   "outputs": [
    {
     "data": {
      "image/png": "[encoded data removed]",
      "text/plain": [
       "<matplotlib.figure.Figure at 0x1094ba7b8>"
      ]
     },
     "metadata": {},
     "output_type": "display_data"
    }
   ],
   "source": [
    "# Visualize the learned weights for each class\n",
    "w = best_softmax.W[:-1,:] # strip out the bias\n",
    "w = w.reshape(32, 32, 3, 10)\n",
    "\n",
    "w_min, w_max = np.min(w), np.max(w)\n",
    "\n",
    "classes = ['plane', 'car', 'bird', 'cat', 'deer', 'dog', 'frog', 'horse', 'ship', 'truck']\n",
    "for i in range(10):\n",
    "    plt.subplot(2, 5, i + 1)\n",
    "    \n",
    "    # Rescale the weights to be between 0 and 255\n",
    "    wimg = 255.0 * (w[:, :, :, i].squeeze() - w_min) / (w_max - w_min)\n",
    "    plt.imshow(wimg.astype('uint8'))\n",
    "    plt.axis('off')\n",
    "    plt.title(classes[i])"
   ]
  },
  {
   "cell_type": "code",
   "execution_count": null,
   "metadata": {
    "collapsed": true
   },
   "outputs": [],
   "source": []
  }
 ],
 "metadata": {
  "kernelspec": {
   "display_name": "Python 3",
   "language": "python",
   "name": "python3"
  },
  "language_info": {
   "codemirror_mode": {
    "name": "ipython",
    "version": 3
   },
   "file_extension": ".py",
   "mimetype": "text/x-python",
   "name": "python",
   "nbconvert_exporter": "python",
   "pygments_lexer": "ipython3",
   "version": "3.6.1"
  }
 },
 "nbformat": 4,
 "nbformat_minor": 0
}
